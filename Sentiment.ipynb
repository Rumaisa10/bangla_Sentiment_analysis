{
  "nbformat": 4,
  "nbformat_minor": 0,
  "metadata": {
    "colab": {
      "provenance": [],
      "authorship_tag": "ABX9TyMRjE2f9ytz5o9IoxbyYpD1",
      "include_colab_link": true
    },
    "kernelspec": {
      "name": "python3",
      "display_name": "Python 3"
    },
    "language_info": {
      "name": "python"
    }
  },
  "cells": [
    {
      "cell_type": "markdown",
      "metadata": {
        "id": "view-in-github",
        "colab_type": "text"
      },
      "source": [
        "<a href=\"https://colab.research.google.com/github/Rumaisa10/bangla_Sentiment_analysis/blob/main/Sentiment.ipynb\" target=\"_parent\"><img src=\"https://colab.research.google.com/assets/colab-badge.svg\" alt=\"Open In Colab\"/></a>"
      ]
    },
    {
      "cell_type": "code",
      "execution_count": null,
      "metadata": {
        "id": "OxRAkJSNAaBW"
      },
      "outputs": [],
      "source": [
        "import numpy as np\n",
        "import pandas as pd\n",
        "import matplotlib.pyplot as plt\n",
        "%matplotlib inline\n",
        "import seaborn as sns\n",
        "import re,json,nltk\n",
        "from sklearn.preprocessing import LabelEncoder\n",
        "from sklearn.feature_extraction.text import TfidfVectorizer\n",
        "from sklearn.model_selection import train_test_split\n",
        "from sklearn.metrics import classification_report,accuracy_score,precision_score,recall_score,f1_score\n",
        "from tensorflow.keras.preprocessing.text import Tokenizer\n",
        "path ='/content/ds_drama.csv' \n",
        "stopwords_list = path+'bangla_stopwords.txt'\n",
        "class color: # Text style\n",
        "   PURPLE = '\\033[95m'\n",
        "   CYAN = '\\033[96m'\n",
        "   DARKCYAN = '\\033[36m'\n",
        "   BLUE = '\\033[94m'\n",
        "   GREEN = '\\033[92m'\n",
        "   YELLOW = '\\033[93m'\n",
        "   RED = '\\033[91m'\n",
        "   BOLD = '\\033[1m'\n",
        "   UNDERLINE = '\\033[4m'\n",
        "   END = '\\033[0m'"
      ]
    },
    {
      "cell_type": "code",
      "source": [
        "data = pd.read_csv('ds_drama1.csv',encoding='UTF-8')\n",
        "print(\"Total Reviews:\",len(data),\n",
        "\"\\nTotal Positive Reviews:\",len(data[data.polarity ==1]),\n",
        "\"\\nTotal Neutral Reviews:\",len(data[data.polarity==2]),\n",
        " \"\\nTotal Negative Reviews:\",len(data[data.polarity==0]))"
      ],
      "metadata": {
        "colab": {
          "base_uri": "https://localhost:8080/"
        },
        "id": "Tt30sVNgtWR9",
        "outputId": "9685c97f-4a42-4658-aaf6-3c11ed1bf6f3"
      },
      "execution_count": null,
      "outputs": [
        {
          "output_type": "stream",
          "name": "stdout",
          "text": [
            "Total Reviews: 2312 \n",
            "Total Positive Reviews: 1123 \n",
            "Total Neutral Reviews: 318 \n",
            "Total Negative Reviews: 871\n"
          ]
        }
      ]
    },
    {
      "cell_type": "code",
      "source": [
        "sns.set(font_scale=1.4)\n",
        "data['polarity'].value_counts().plot(kind='barh', figsize=(6, 4))\n",
        "plt.xlabel(\"Number of Comments\", labelpad=12)\n",
        "plt.ylabel(\"Sentiment Class\", labelpad=12)\n",
        "plt.yticks(rotation = 45)\n",
        "plt.title(\"Dataset Distribution\", y=1.02);"
      ],
      "metadata": {
        "colab": {
          "base_uri": "https://localhost:8080/",
          "height": 327
        },
        "id": "cpFFMG0Sw9K9",
        "outputId": "80c13e0d-dbc9-4e4b-932c-9c4f1a675f7f"
      },
      "execution_count": null,
      "outputs": [
        {
          "output_type": "display_data",
          "data": {
            "text/plain": [
              "<Figure size 432x288 with 1 Axes>"
            ],
            "image/png": "[encoded data removed]"
          },
          "metadata": {}
        }
      ]
    },
    {
      "cell_type": "code",
      "source": [
        "sample_data = [10,100,150,200,250,400,400,500,600,650,660,689,600,700,750,]\n",
        "for i in sample_data:\n",
        "      print(data.comment[i],'\\n','Sentiment:-- ',data.polarity[i],'\\n') "
      ],
      "metadata": {
        "colab": {
          "base_uri": "https://localhost:8080/"
        },
        "id": "2BMKoqlQxPnG",
        "outputId": "01611131-44a7-4fbf-9f92-036cff88ea5d"
      },
      "execution_count": null,
      "outputs": [
        {
          "output_type": "stream",
          "name": "stdout",
          "text": [
            "ইদানীং দেখতে পারছি বাংলা নাটক সামিরা খান মাহির দখলে, যেমন শুনতে মজা লাগে তার সিলেটী ভাষা, তেমন তার ইংলিশ স্পিকিং \n",
            " Sentiment:--  1 \n",
            "\n",
            "মনে করছিলাম ঢুবাইয়ের সিন সিনারি থাকবে এজন্য দেখতে বসলাম, কিন্তু নাটক দেখে হতাশ \n",
            " Sentiment:--  0 \n",
            "\n",
            "নাটকে বাবার চরিত্রটা দেখবার মতো ছিল,,একদম মজার🥰😁 অনেক হাসলাম নাটকটা দেখে,,সত্যিই খুব অসাধারণ ছিল \n",
            " Sentiment:--  1 \n",
            "\n",
            "আশা করি সকলের কাছে নাটকটি ভালো লেগেছে,  \n",
            " Sentiment:--  1 \n",
            "\n",
            "নাটক টা কি রকম হইছে জানিনা \n",
            " Sentiment:--  2 \n",
            "\n",
            "ভালো হয়নি, গল্প নাই শুধুই ভাঁড়ামি \n",
            " Sentiment:--  0 \n",
            "\n",
            "ভালো হয়নি, গল্প নাই শুধুই ভাঁড়ামি \n",
            " Sentiment:--  0 \n",
            "\n",
            "ফালতু চোদা গল্প \n",
            " Sentiment:--  0 \n",
            "\n",
            " অনেক সুন্দর একটা নাটক। চোখের পানি ধোরে রাখা জায়না \n",
            " Sentiment:--  1 \n",
            "\n",
            " শেষটা খুবই সুন্দর হয়েছে....এগিয়ে যান নিশো ভাই আর তিশা আপু \n",
            " Sentiment:--  1 \n",
            "\n",
            " মিস করার মানুষটা যদি তার ভুলগুলো বুজতে পারতো।আফরান নিশো আসলে সেরা \n",
            " Sentiment:--  1 \n",
            "\n",
            " খুব ভালো লাগলো \n",
            " Sentiment:--  1 \n",
            "\n",
            " অনেক সুন্দর একটা নাটক। চোখের পানি ধোরে রাখা জায়না \n",
            " Sentiment:--  1 \n",
            "\n",
            " ফালতু, একটা কথা মাথায় রাখা উচিত। জোর করে কমেডি বানানো যায় না। মোশাররফ করিম এর কাছ থেকে এরকম কিছু আশা করি না। \n",
            " Sentiment:--  0 \n",
            "\n",
            "আমি এর থেকে ভালো গল্প ও Direction দিতে পারতাম। আমার মনে হয় ডিরেক্টর ও এক্টর  গাঞ্জা খেয়ে কাজ  করছে। \n",
            " Sentiment:--  0 \n",
            "\n"
          ]
        }
      ]
    },
    {
      "cell_type": "code",
      "source": [
        "def process_comments(comment): \n",
        "    comment = re.sub('[^\\u0980-\\u09FF]',' ',str(comment)) \n",
        "    return comment"
      ],
      "metadata": {
        "id": "sjHDAM--xXQe"
      },
      "execution_count": null,
      "outputs": []
    },
    {
      "cell_type": "code",
      "source": [
        "data['cleaned'] = data['comment'].apply(process_comments)  \n",
        "\n",
        "\n",
        "sample_data = [160,1060,150,222,250,403,455,501,609,685,686,608,600,701,750]\n",
        "for i in sample_data:\n",
        "     print('Original:\\n',data.comment[i],'\\nCleaned:\\n',\n",
        "           data.cleaned[i],'\\n','Sentiment:-- ',data.polarity[i],'\\n')"
      ],
      "metadata": {
        "colab": {
          "base_uri": "https://localhost:8080/"
        },
        "id": "FJnrkvpRxdHV",
        "outputId": "0439d2ac-630f-404a-ef0e-e164ddc43abb"
      },
      "execution_count": null,
      "outputs": [
        {
          "output_type": "stream",
          "name": "stdout",
          "text": [
            "Original:\n",
            " শুরুটা হাসি দিয়ে 😃😃শেষটা কান্না দিয়ে 😭😭নাটকা সুন্দর হয়েছে \n",
            "Cleaned:\n",
            " শুরুটা হাসি দিয়ে   শেষটা কান্না দিয়ে   নাটকা সুন্দর হয়েছে \n",
            " Sentiment:--  1 \n",
            "\n",
            "Original:\n",
            "  নামাজ পড়ার আদেশ অনেক ভালো লাগলো। পরিচালককে অনেক ধন্যবাদ এমন একটি গল্প লেখার জন্য। \n",
            "Cleaned:\n",
            "  নামাজ পড়ার আদেশ অনেক ভালো লাগলো  পরিচালককে অনেক ধন্যবাদ এমন একটি গল্প লেখার জন্য  \n",
            " Sentiment:--  1 \n",
            "\n",
            "Original:\n",
            " নাটকে বাবার চরিত্রটা দেখবার মতো ছিল,,একদম মজার🥰😁 অনেক হাসলাম নাটকটা দেখে,,সত্যিই খুব অসাধারণ ছিল \n",
            "Cleaned:\n",
            " নাটকে বাবার চরিত্রটা দেখবার মতো ছিল  একদম মজার   অনেক হাসলাম নাটকটা দেখে  সত্যিই খুব অসাধারণ ছিল \n",
            " Sentiment:--  1 \n",
            "\n",
            "Original:\n",
            " নাটক ভালো লাগলে কি হবে মিথিলা কে তো ভালো লাগে না,, \n",
            "Cleaned:\n",
            " নাটক ভালো লাগলে কি হবে মিথিলা কে তো ভালো লাগে না   \n",
            " Sentiment:--  2 \n",
            "\n",
            "Original:\n",
            " নাটক টা কি রকম হইছে জানিনা \n",
            "Cleaned:\n",
            " নাটক টা কি রকম হইছে জানিনা \n",
            " Sentiment:--  2 \n",
            "\n",
            "Original:\n",
            " অসাধারন একটা নাটক,খুবই ভাল লাগছে,বিশ্বাস এমন একটা জিনিস যেটা রাখার য্যোগতা সবার থাকে না \n",
            "Cleaned:\n",
            " অসাধারন একটা নাটক খুবই ভাল লাগছে বিশ্বাস এমন একটা জিনিস যেটা রাখার য্যোগতা সবার থাকে না \n",
            " Sentiment:--  1 \n",
            "\n",
            "Original:\n",
            "  নিশো ভাই অভিনেতা হিসাবে সেরা আবারও প্রমান হয়ে গেল \n",
            "Cleaned:\n",
            "  নিশো ভাই অভিনেতা হিসাবে সেরা আবারও প্রমান হয়ে গেল \n",
            " Sentiment:--  1 \n",
            "\n",
            "Original:\n",
            "  ১২ মিনিট অবধি দেখেছি।জঘন্য বললে ভুল বলা হবে। আসলে কুৎসিত নাটক।ফিরিয়ে দে আমার ১২ মিনিট।এইসব বালছাল \n",
            "Cleaned:\n",
            "  ১২ মিনিট অবধি দেখেছি জঘন্য বললে ভুল বলা হবে  আসলে কুৎসিত নাটক ফিরিয়ে দে আমার ১২ মিনিট এইসব বালছাল \n",
            " Sentiment:--  0 \n",
            "\n",
            "Original:\n",
            "  অসাধারণ। কিন্তু শেষ টা দেখে আর চোঁখের পানি ধরে রাখতে পারলাম না।তুমি কেদো না আমি থাকবো না!!! \n",
            "Cleaned:\n",
            "  অসাধারণ  কিন্তু শেষ টা দেখে আর চোঁখের পানি ধরে রাখতে পারলাম না তুমি কেদো না আমি থাকবো না    \n",
            " Sentiment:--  1 \n",
            "\n",
            "Original:\n",
            "  অনেক সুন্দর লেগেছে নাটক টা।আফরান নিশোর নাটক সবসময় সুন্দর হয়। \n",
            "Cleaned:\n",
            "  অনেক সুন্দর লেগেছে নাটক টা আফরান নিশোর নাটক সবসময় সুন্দর হয়  \n",
            " Sentiment:--  1 \n",
            "\n",
            "Original:\n",
            "  অসাধারন নির্মাণ... \n",
            "Cleaned:\n",
            "  অসাধারন নির্মাণ    \n",
            " Sentiment:--  1 \n",
            "\n",
            "Original:\n",
            "  অনেক টা ভালো লাগছে আই লাভ নাটক \n",
            "Cleaned:\n",
            "  অনেক টা ভালো লাগছে আই লাভ নাটক \n",
            " Sentiment:--  1 \n",
            "\n",
            "Original:\n",
            "  অনেক সুন্দর একটা নাটক। চোখের পানি ধোরে রাখা জায়না \n",
            "Cleaned:\n",
            "  অনেক সুন্দর একটা নাটক  চোখের পানি ধোরে রাখা জায়না \n",
            " Sentiment:--  1 \n",
            "\n",
            "Original:\n",
            "  কোন আবালে নাটক বানাইছে? ১৮ঃ০০ মিনিটের পরে নাইকার শাড়ী নিয়া একটা বড়সড় ভুল আছে \n",
            "Cleaned:\n",
            "  কোন আবালে নাটক বানাইছে  ১৮ঃ০০ মিনিটের পরে নাইকার শাড়ী নিয়া একটা বড়সড় ভুল আছে \n",
            " Sentiment:--  0 \n",
            "\n",
            "Original:\n",
            " আমি এর থেকে ভালো গল্প ও Direction দিতে পারতাম। আমার মনে হয় ডিরেক্টর ও এক্টর  গাঞ্জা খেয়ে কাজ  করছে। \n",
            "Cleaned:\n",
            " আমি এর থেকে ভালো গল্প ও           দিতে পারতাম  আমার মনে হয় ডিরেক্টর ও এক্টর  গাঞ্জা খেয়ে কাজ  করছে  \n",
            " Sentiment:--  0 \n",
            "\n"
          ]
        }
      ]
    },
    {
      "cell_type": "code",
      "source": [
        "# Length of each Reveiws\n",
        "data['length'] = data['cleaned'].apply(lambda x:len(x.split()))\n",
        "# Remove the reviews with least words\n",
        "dataset = data.loc[data.length>0]\n",
        "dataset = dataset.reset_index(drop = True)\n",
        "print(\"After Cleaning:\",\"\\nRemoved {} Small Reviews\".format(len(data)-len(dataset)),\n",
        "      \"\\nTotal Reviews:\",len(dataset))"
      ],
      "metadata": {
        "colab": {
          "base_uri": "https://localhost:8080/"
        },
        "id": "G-XJ8O01e-1z",
        "outputId": "7db6e99b-31b8-432f-a01f-1c0c2070f0f0"
      },
      "execution_count": null,
      "outputs": [
        {
          "output_type": "stream",
          "name": "stdout",
          "text": [
            "After Cleaning: \n",
            "Removed 0 Small Reviews \n",
            "Total Reviews: 2312\n"
          ]
        }
      ]
    },
    {
      "cell_type": "code",
      "source": [
        "def data_summary(dataset):\n",
        "    \n",
        "    \"\"\"\n",
        "    This function will print the summary of the reviews and words distribution in the dataset. \n",
        "    \n",
        "    Args:\n",
        "        dataset: list of cleaned sentences   \n",
        "        \n",
        "    Returns:\n",
        "        Number of documnets per class: int \n",
        "        Number of words per class: int\n",
        "        Number of unique words per class: int\n",
        "    \"\"\"\n",
        "    documents = []\n",
        "    words = []\n",
        "    u_words = []\n",
        "    total_u_words = [word.strip().lower() for t in list(dataset.cleaned) for word in t.strip().split()]\n",
        "    class_label= [k for k,v in dataset.polarity.value_counts().to_dict().items()]\n",
        "  # find word list\n",
        "    for label in class_label: \n",
        "        word_list = [word.strip().lower() for t in list(dataset[dataset.polarity==label].cleaned) for word in t.strip().split()]\n",
        "        counts = dict()\n",
        "        for word in word_list:\n",
        "                counts[word] = counts.get(word, 0)+1\n",
        "        # sort the dictionary of word list  \n",
        "        ordered = sorted(counts.items(), key= lambda item: item[1],reverse = True)\n",
        "        # Documents per class\n",
        "        documents.append(len(list(dataset[dataset.polarity==label].cleaned)))\n",
        "        # Total Word per class\n",
        "        words.append(len(word_list))\n",
        "        # Unique words per class \n",
        "        u_words.append(len(np.unique(word_list)))\n",
        "       \n",
        "        print(\"\\nClass Name : \",label)\n",
        "        print(\"Number of Documents:{}\".format(len(list(dataset[dataset.polarity==label].cleaned))))  \n",
        "        print(\"Number of Words:{}\".format(len(word_list))) \n",
        "        print(\"Number of Unique Words:{}\".format(len(np.unique(word_list)))) \n",
        "        print(\"Most Frequent Words:\\n\")\n",
        "        for k,v in ordered[:10]:\n",
        "              print(\"{}\\t{}\".format(k,v))\n",
        "    print(\"Total Number of Unique Words:{}\".format(len(np.unique(total_u_words))))           \n",
        "   \n",
        "    return documents,words,u_words,class_label\n",
        "\n",
        "#call the fucntion\n",
        "documents,words,u_words,class_names = data_summary(dataset)   "
      ],
      "metadata": {
        "colab": {
          "base_uri": "https://localhost:8080/"
        },
        "id": "Tt6GEMDRxsC-",
        "outputId": "02509a4d-79e9-4b82-fc25-2a914bd4e162"
      },
      "execution_count": null,
      "outputs": [
        {
          "output_type": "stream",
          "name": "stdout",
          "text": [
            "\n",
            "Class Name :  1\n",
            "Number of Documents:1123\n",
            "Number of Words:14005\n",
            "Number of Unique Words:2877\n",
            "Most Frequent Words:\n",
            "\n",
            "নাটক\t596\n",
            "অনেক\t328\n",
            "ভালো\t294\n",
            "সুন্দর\t233\n",
            "অসাধারণ\t212\n",
            "ভাই\t149\n",
            "এই\t146\n",
            "একটা\t144\n",
            "খুব\t143\n",
            "জন্য\t137\n",
            "\n",
            "Class Name :  0\n",
            "Number of Documents:871\n",
            "Number of Words:9307\n",
            "Number of Unique Words:2715\n",
            "Most Frequent Words:\n",
            "\n",
            "নাটক\t477\n",
            "না\t204\n",
            "ফালতু\t164\n",
            "এই\t147\n",
            "আর\t119\n",
            "নাটকের\t95\n",
            "একটা\t94\n",
            "কি\t82\n",
            "নাই\t80\n",
            "ভালো\t72\n",
            "\n",
            "Class Name :  2\n",
            "Number of Documents:318\n",
            "Number of Words:4399\n",
            "Number of Unique Words:1704\n",
            "Most Frequent Words:\n",
            "\n",
            "নাটক\t139\n",
            "না\t85\n",
            "এই\t73\n",
            "নাটকের\t51\n",
            "আমার\t37\n",
            "করে\t37\n",
            "নাটকে\t36\n",
            "আর\t35\n",
            "দেখে\t33\n",
            "কে\t32\n",
            "Total Number of Unique Words:5305\n"
          ]
        }
      ]
    },
    {
      "cell_type": "code",
      "source": [
        "data_matrix = pd.DataFrame({'Total Documents':documents,\n",
        "                            'Total Words':words,\n",
        "                            'Unique Words':u_words,\n",
        "                            'Class Names':class_names})\n",
        "df = pd.melt(data_matrix, id_vars=\"Class Names\", var_name=\"Category\", value_name=\"Values\")\n",
        "plt.figure(figsize=(6, 4))\n",
        "ax = plt.subplot()\n",
        "\n",
        "sns.barplot(data=df,x='Class Names', y='Values' ,hue='Category')\n",
        "ax.set_xlabel('Class Names') \n",
        "ax.set_title('Data Statistics')\n",
        "\n",
        "ax.xaxis.set_ticklabels(class_names, rotation=45);"
      ],
      "metadata": {
        "colab": {
          "base_uri": "https://localhost:8080/",
          "height": 317
        },
        "id": "IWPwinJSx3BU",
        "outputId": "eae78482-7882-4a06-b9b6-9f468191113a"
      },
      "execution_count": null,
      "outputs": [
        {
          "output_type": "display_data",
          "data": {
            "text/plain": [
              "<Figure size 432x288 with 1 Axes>"
            ],
            "image/png": "[encoded data removed]"
          },
          "metadata": {}
        }
      ]
    },
    {
      "cell_type": "code",
      "source": [
        "\n",
        "dataset['ReviewLength'] = dataset.cleaned.apply(lambda x:len(x.split()))\n",
        "frequency = dict()\n",
        "for i in dataset.ReviewLength:\n",
        "    frequency[i] = frequency.get(i, 0)+1\n",
        "\n",
        "plt.bar(frequency.keys(), frequency.values(), color =\"b\")\n",
        "plt.xlim(1, 135)\n",
        "\n",
        "plt.xlabel('Lenght of the Texts')\n",
        "plt.ylabel('Frequency')\n",
        "plt.title('Length-Frequency Distribution')\n",
        "plt.show()  \n",
        "print(f\"Maximum Length of a review: {max(dataset.ReviewLength)}\")\n",
        "print(f\"Minimum Length of a review: {min(dataset.ReviewLength)}\")\n",
        "print(f\"Average Length of a reviews: {round(np.mean(dataset.ReviewLength),0)}\")"
      ],
      "metadata": {
        "colab": {
          "base_uri": "https://localhost:8080/",
          "height": 370
        },
        "id": "xpIiDS2p0hO0",
        "outputId": "df0dc554-ddf6-4c70-9e0e-bd567fa50d48"
      },
      "execution_count": null,
      "outputs": [
        {
          "output_type": "display_data",
          "data": {
            "text/plain": [
              "<Figure size 432x288 with 1 Axes>"
            ],
            "image/png": "[encoded data removed]"
          },
          "metadata": {}
        },
        {
          "output_type": "stream",
          "name": "stdout",
          "text": [
            "Maximum Length of a review: 73\n",
            "Minimum Length of a review: 1\n",
            "Average Length of a reviews: 12.0\n"
          ]
        }
      ]
    },
    {
      "cell_type": "markdown",
      "source": [
        "Taking positive,negative and nuetral class for model building\n"
      ],
      "metadata": {
        "id": "fZSACsVnclzJ"
      }
    },
    {
      "cell_type": "code",
      "source": [
        "positive = dataset[dataset.polarity == 1]\n",
        "negative = dataset[dataset.polarity == 0]\n",
        "neutral = dataset[dataset.polarity == 2]\n",
        "dataset= positive\n",
        "dataset = positive.append(negative,ignore_index=True)\n",
        "dataset = dataset.append(neutral,ignore_index=True)\n",
        "dataset.polarity.value_counts()"
      ],
      "metadata": {
        "colab": {
          "base_uri": "https://localhost:8080/"
        },
        "id": "R94_IN2B0n-1",
        "outputId": "51c8ef00-d85f-4842-ff4e-9e88b602e4d3"
      },
      "execution_count": null,
      "outputs": [
        {
          "output_type": "execute_result",
          "data": {
            "text/plain": [
              "1    1123\n",
              "0     871\n",
              "2     318\n",
              "Name: polarity, dtype: int64"
            ]
          },
          "metadata": {},
          "execution_count": 134
        }
      ]
    },
    {
      "cell_type": "markdown",
      "source": [
        "#Lable encoding\n",
        "\n",
        "fit = Fit label encoder.\t\n",
        "transform = Transform labels to normalized encoding.\n"
      ],
      "metadata": {
        "id": "pj5bwvJscybX"
      }
    },
    {
      "cell_type": "code",
      "source": [
        "def label_encoding(sentiment,bool):\n",
        "\n",
        "    le = LabelEncoder()\n",
        "    le.fit(sentiment)\n",
        "    encoded_labels = le.transform(sentiment)\n",
        "    labels = np.array(encoded_labels) \n",
        "    class_names =le.classes_\n",
        "    if bool == True:\n",
        "        print(\" Label Encoding \",\"\\nClass Names:-->\",le.classes_)\n",
        "        for i in sample_data:\n",
        "            print(sentiment[i],' ', encoded_labels[i],'\\n')\n",
        "\n",
        "    return labels"
      ],
      "metadata": {
        "id": "2CPQiYaO0qbd"
      },
      "execution_count": null,
      "outputs": []
    },
    {
      "cell_type": "code",
      "source": [
        "label_encoding(dataset.polarity,True)"
      ],
      "metadata": {
        "colab": {
          "base_uri": "https://localhost:8080/"
        },
        "id": "-cooyG4Y1BWN",
        "outputId": "1c697d1e-89b0-4d0c-fe90-9439fd828618"
      },
      "execution_count": null,
      "outputs": [
        {
          "output_type": "stream",
          "name": "stdout",
          "text": [
            " Label Encoding  \n",
            "Class Names:--> [0 1 2]\n",
            "1   1 \n",
            "\n",
            "1   1 \n",
            "\n",
            "1   1 \n",
            "\n",
            "1   1 \n",
            "\n",
            "1   1 \n",
            "\n",
            "1   1 \n",
            "\n",
            "1   1 \n",
            "\n",
            "1   1 \n",
            "\n",
            "1   1 \n",
            "\n",
            "1   1 \n",
            "\n",
            "1   1 \n",
            "\n",
            "1   1 \n",
            "\n",
            "1   1 \n",
            "\n",
            "1   1 \n",
            "\n",
            "1   1 \n",
            "\n"
          ]
        },
        {
          "output_type": "execute_result",
          "data": {
            "text/plain": [
              "array([1, 1, 1, ..., 2, 2, 2])"
            ]
          },
          "metadata": {},
          "execution_count": 136
        }
      ]
    },
    {
      "cell_type": "markdown",
      "source": [
        "#Dataset splitting\n",
        "splitted (80%-20%) feature vector\n",
        "Args:  feature_space: calcuated feature vector (sparse matrix)\n",
        "        sentiment: encoded lables (array)\n",
        "Returns:\n",
        "        X_train: training feature vector (sparse matrix)\n",
        "        X_test : testing feature vector (sparse matrix)\n",
        "        y_train: training encoded labels (array) \n",
        "        y_test : testing encoded labels (array) "
      ],
      "metadata": {
        "id": "NQj4W9VjhY3p"
      }
    },
    {
      "cell_type": "code",
      "source": [
        "def dataset_split(feature_space,sentiment):\n",
        "\n",
        "    X_train,X_test,y_train,y_test = train_test_split(feature_space,sentiment,train_size = 0.8,\n",
        "                                                  test_size = 0.2,random_state =0)\n",
        "    print(\"Feature Size :======>\",X_train.shape[1])\n",
        "    print(\"\\nDataset Distribution:\\n\")\n",
        "    print(\"\\tSet Name\",\"\\t\\tSize\")\n",
        "    \n",
        "\n",
        "    print(\"\\tFull\\t\\t\\t\",feature_space.shape[0],\n",
        "        \"\\n\\tTraining\\t\\t\",X_train.shape[0],\n",
        "        \"\\n\\tTest\\t\\t\\t\",X_test.shape[0])\n",
        "  \n",
        "    return X_train,X_test,y_train,y_test"
      ],
      "metadata": {
        "id": "kWAI2Ey41NLE"
      },
      "execution_count": null,
      "outputs": []
    },
    {
      "cell_type": "code",
      "source": [
        "dataset.cleaned = dataset.cleaned.apply(lambda x:x.replace('\\n',' '))"
      ],
      "metadata": {
        "id": "dolUMJuw1XLN"
      },
      "execution_count": null,
      "outputs": []
    },
    {
      "cell_type": "markdown",
      "source": [
        " This function will return the tf-idf value of the respective gram features . \n",
        "    \n",
        "    Args:\n",
        "        reviews: a list of cleaned reviews   \n",
        "    Returns:\n",
        "        tfidf: a instance of TfidfVectorizer\n",
        "        X : Unigram Feature Vector (sparse matrix)"
      ],
      "metadata": {
        "id": "nmVh5nB5iV1R"
      }
    },
    {
      "cell_type": "code",
      "source": [
        "def calc_gram_tfidf(reviews,gram):\n",
        "\n",
        "    tfidf = TfidfVectorizer(ngram_range=gram,use_idf=True,tokenizer=lambda x: x.split()) \n",
        "    X = tfidf.fit_transform(reviews)\n",
        "    \n",
        "    return tfidf,X"
      ],
      "metadata": {
        "id": "gZCmHp7u1e8W"
      },
      "execution_count": null,
      "outputs": []
    },
    {
      "cell_type": "code",
      "source": [
        "from sklearn.linear_model import LogisticRegression\n",
        "from sklearn.tree import DecisionTreeClassifier\n",
        "from sklearn.ensemble import RandomForestClassifier\n",
        "from sklearn.naive_bayes import MultinomialNB\n",
        "from sklearn.neighbors import KNeighborsClassifier\n",
        "from sklearn.svm import SVC\n",
        "from sklearn.linear_model import SGDClassifier\n",
        "from sklearn.metrics import classification_report,accuracy_score,precision_score,recall_score,f1_score\n",
        "from sklearn.metrics import roc_curve, roc_auc_score\n",
        "from sklearn.metrics import average_precision_score,roc_auc_score, roc_curve, precision_recall_curve"
      ],
      "metadata": {
        "id": "qob3sWoz1lrV"
      },
      "execution_count": null,
      "outputs": []
    },
    {
      "cell_type": "markdown",
      "source": [
        "#Classifiers Defination"
      ],
      "metadata": {
        "id": "SfL42OVbQZRX"
      }
    },
    {
      "cell_type": "code",
      "source": [
        "def ml_models_defination(): \n",
        "  \n",
        "    \n",
        "    lr_model = LogisticRegression(random_state = 0,solver = 'liblinear',multi_class = 'auto')\n",
        "    dt_model = DecisionTreeClassifier(criterion = 'entropy', random_state = 0)\n",
        "    rf_model = RandomForestClassifier(n_estimators=100, criterion ='entropy', random_state = 0)\n",
        "    mnb_model = MultinomialNB(alpha=0.15)\n",
        "    knn_model = KNeighborsClassifier(n_neighbors=3, metric = 'minkowski')\n",
        "    lsvm_model = SVC(kernel = 'linear',C = 0.2, probability=True, random_state = 0)\n",
        "    ksvm_model = SVC(C= 1000,kernel = 'rbf',probability=True, gamma = 0.00015, random_state = 0)\n",
        "    model_names = ['Logistic Regression','Decision Tree','Random Forest','Naive Bayes','KNN','Linear SVM','Kernel SVM']\n",
        "    ml_models = [lr_model,dt_model,rf_model,mnb_model,knn_model,lsvm_model,ksvm_model]\n",
        "    return ml_models,model_names "
      ],
      "metadata": {
        "id": "rNilCMQ91ukM"
      },
      "execution_count": null,
      "outputs": []
    },
    {
      "cell_type": "markdown",
      "source": [
        "#Model Evaluation Function"
      ],
      "metadata": {
        "id": "pjv1uazEQ3Se"
      }
    },
    {
      "cell_type": "code",
      "source": [
        "def model_performace(model,X_train,X_test,y_train,y_test):\n",
        "\n",
        "    my_dict = {}\n",
        "    model.fit(X_train,y_train)\n",
        "    pred_y = model.predict(X_test)\n",
        "    my_dict['Accuracy'] = round(accuracy_score(y_test, pred_y),4)*100 \n",
        "    my_dict['Precision'] = round(precision_score(y_test, pred_y,average='macro'),4)*100 \n",
        "    my_dict['Recall'] = round(recall_score(y_test, pred_y,average='macro'),4)*100 \n",
        "    my_dict['F1 Score'] = round(f1_score(y_test, pred_y,average='macro'),4)*100 \n",
        "    \n",
        "    return my_dict  \n"
      ],
      "metadata": {
        "id": "45dG-M8h1_Ue"
      },
      "execution_count": null,
      "outputs": []
    },
    {
      "cell_type": "markdown",
      "source": [],
      "metadata": {
        "id": "BvH8TfTUmDVF"
      }
    },
    {
      "cell_type": "markdown",
      "source": [
        "#Model Performane into Dataframe"
      ],
      "metadata": {
        "id": "1r8_4ycwQ9Lj"
      }
    },
    {
      "cell_type": "code",
      "source": [
        "def performance_table(performance_dict):\n",
        "  \n",
        "    acc_list = []\n",
        "    pr_list = []\n",
        "    re_list = []\n",
        "    f1_list = []\n",
        "    for i in performance_dict.keys():\n",
        "        acc_list.append(performance_dict[i]['Accuracy'])\n",
        "        pr_list.append(performance_dict[i]['Precision'])\n",
        "        re_list.append(performance_dict[i]['Recall'])\n",
        "        f1_list.append(performance_dict[i]['F1 Score'])\n",
        "\n",
        "    # Create a dataframe\n",
        "    model_names = ['LR','DT','RF','MNB','KNN','Linear SVM','RBF SVM']\n",
        "    performance_df = pd.DataFrame({'Accuracy':acc_list,'Precision':pr_list,\n",
        "                                   'Recall':re_list,'F1 Score':f1_list,\n",
        "                                   'Model Name':model_names })\n",
        "    return performance_df "
      ],
      "metadata": {
        "id": "Ggj4PzQf2XjG"
      },
      "execution_count": null,
      "outputs": []
    },
    {
      "cell_type": "markdown",
      "source": [],
      "metadata": {
        "id": "VdFKRGpiRCz_"
      }
    },
    {
      "cell_type": "code",
      "source": [
        "gram_names = ['Unigram','Bigram','Trigram']\n",
        "ngrams = [(1,1),(1,2),(1,3)]\n",
        "for i,gram in enumerate(ngrams):\n",
        "    tfidf,feature = calc_gram_tfidf(dataset.cleaned,gram)\n",
        "    labels = label_encoding(dataset.polarity,False)\n",
        "    X_train,X_test,y_train,y_test = dataset_split(feature,labels) \n",
        "    ml_models,model_names = ml_models_defination()\n",
        "    accuracy = {f'{model_names[j]}':model_performace(model,X_train,X_test,y_train,y_test) for j,model in enumerate(ml_models)}\n",
        "    \n",
        "    with open(path+f'ml_performance_{gram_names[i]}.json', 'w') as f:\n",
        "          json.dump(accuracy, f)"
      ],
      "metadata": {
        "colab": {
          "base_uri": "https://localhost:8080/"
        },
        "id": "Z5ycg1kU2mAM",
        "outputId": "b15de043-3444-4782-a27d-635028f9a102"
      },
      "execution_count": null,
      "outputs": [
        {
          "output_type": "stream",
          "name": "stdout",
          "text": [
            "Feature Size :======> 5305\n",
            "\n",
            "Dataset Distribution:\n",
            "\n",
            "\tSet Name \t\tSize\n",
            "\tFull\t\t\t 2312 \n",
            "\tTraining\t\t 1849 \n",
            "\tTest\t\t\t 463\n"
          ]
        },
        {
          "output_type": "stream",
          "name": "stderr",
          "text": [
            "/usr/local/lib/python3.8/dist-packages/sklearn/metrics/_classification.py:1318: UndefinedMetricWarning: Precision is ill-defined and being set to 0.0 in labels with no predicted samples. Use `zero_division` parameter to control this behavior.\n",
            "  _warn_prf(average, modifier, msg_start, len(result))\n",
            "/usr/local/lib/python3.8/dist-packages/sklearn/metrics/_classification.py:1318: UndefinedMetricWarning: Precision is ill-defined and being set to 0.0 in labels with no predicted samples. Use `zero_division` parameter to control this behavior.\n",
            "  _warn_prf(average, modifier, msg_start, len(result))\n",
            "/usr/local/lib/python3.8/dist-packages/sklearn/metrics/_classification.py:1318: UndefinedMetricWarning: Precision is ill-defined and being set to 0.0 in labels with no predicted samples. Use `zero_division` parameter to control this behavior.\n",
            "  _warn_prf(average, modifier, msg_start, len(result))\n"
          ]
        },
        {
          "output_type": "stream",
          "name": "stdout",
          "text": [
            "Feature Size :======> 23552\n",
            "\n",
            "Dataset Distribution:\n",
            "\n",
            "\tSet Name \t\tSize\n",
            "\tFull\t\t\t 2312 \n",
            "\tTraining\t\t 1849 \n",
            "\tTest\t\t\t 463\n"
          ]
        },
        {
          "output_type": "stream",
          "name": "stderr",
          "text": [
            "/usr/local/lib/python3.8/dist-packages/sklearn/metrics/_classification.py:1318: UndefinedMetricWarning: Precision is ill-defined and being set to 0.0 in labels with no predicted samples. Use `zero_division` parameter to control this behavior.\n",
            "  _warn_prf(average, modifier, msg_start, len(result))\n",
            "/usr/local/lib/python3.8/dist-packages/sklearn/metrics/_classification.py:1318: UndefinedMetricWarning: Precision is ill-defined and being set to 0.0 in labels with no predicted samples. Use `zero_division` parameter to control this behavior.\n",
            "  _warn_prf(average, modifier, msg_start, len(result))\n"
          ]
        },
        {
          "output_type": "stream",
          "name": "stdout",
          "text": [
            "Feature Size :======> 44875\n",
            "\n",
            "Dataset Distribution:\n",
            "\n",
            "\tSet Name \t\tSize\n",
            "\tFull\t\t\t 2312 \n",
            "\tTraining\t\t 1849 \n",
            "\tTest\t\t\t 463\n"
          ]
        },
        {
          "output_type": "stream",
          "name": "stderr",
          "text": [
            "/usr/local/lib/python3.8/dist-packages/sklearn/metrics/_classification.py:1318: UndefinedMetricWarning: Precision is ill-defined and being set to 0.0 in labels with no predicted samples. Use `zero_division` parameter to control this behavior.\n",
            "  _warn_prf(average, modifier, msg_start, len(result))\n",
            "/usr/local/lib/python3.8/dist-packages/sklearn/metrics/_classification.py:1318: UndefinedMetricWarning: Precision is ill-defined and being set to 0.0 in labels with no predicted samples. Use `zero_division` parameter to control this behavior.\n",
            "  _warn_prf(average, modifier, msg_start, len(result))\n",
            "/usr/local/lib/python3.8/dist-packages/sklearn/metrics/_classification.py:1318: UndefinedMetricWarning: Precision is ill-defined and being set to 0.0 in labels with no predicted samples. Use `zero_division` parameter to control this behavior.\n",
            "  _warn_prf(average, modifier, msg_start, len(result))\n"
          ]
        }
      ]
    },
    {
      "cell_type": "code",
      "source": [
        "gram_names = ['Unigram','Bigram','Trigram']\n",
        "\n",
        "for gram in gram_names:\n",
        "  accuracy = json.load(open(path+f'ml_performance_{gram}.json'))\n",
        "  table = performance_table(accuracy)\n",
        "  print(f\"\\n Performace Table for {gram} feature:\\n\",table)\n",
        " "
      ],
      "metadata": {
        "colab": {
          "base_uri": "https://localhost:8080/"
        },
        "id": "BMyJo7ye3f3V",
        "outputId": "1ef9b128-6bd2-4ff8-c7a3-297775260d26"
      },
      "execution_count": null,
      "outputs": [
        {
          "output_type": "stream",
          "name": "stdout",
          "text": [
            "\n",
            " Performace Table for Unigram feature:\n",
            "    Accuracy  Precision  Recall  F1 Score  Model Name\n",
            "0     82.94      78.78   64.22     63.69          LR\n",
            "1     74.08      63.20   64.27     63.50          DT\n",
            "2     80.99      74.60   63.22     62.25          RF\n",
            "3     82.72      75.31   67.85     69.46         MNB\n",
            "4     78.40      67.99   61.48     61.79         KNN\n",
            "5     81.64      53.88   60.83     57.07  Linear SVM\n",
            "6     80.99      53.49   60.49     56.66     RBF SVM\n",
            "\n",
            " Performace Table for Bigram feature:\n",
            "    Accuracy  Precision  Recall  F1 Score  Model Name\n",
            "0     81.86      54.06   60.69     57.18          LR\n",
            "1     71.92      59.74   60.27     59.87          DT\n",
            "2     81.21      76.08   62.88     61.40          RF\n",
            "3     84.23      76.11   70.77     72.29         MNB\n",
            "4     79.70      70.01   62.90     63.53         KNN\n",
            "5     74.08      52.82   52.46     50.71  Linear SVM\n",
            "6     82.07      54.18   60.89     57.32     RBF SVM\n",
            "\n",
            " Performace Table for Trigram feature:\n",
            "    Accuracy  Precision  Recall  F1 Score  Model Name\n",
            "0     81.64      54.19   60.28     57.06          LR\n",
            "1     73.65      60.86   61.20     60.99          DT\n",
            "2     78.19      63.24   59.30     56.03          RF\n",
            "3     84.02      76.98   70.84     72.36         MNB\n",
            "4     79.48      72.36   62.02     62.63         KNN\n",
            "5     61.56      51.11   40.61     36.45  Linear SVM\n",
            "6     75.38      53.22   53.67     51.87     RBF SVM\n"
          ]
        }
      ]
    },
    {
      "cell_type": "code",
      "source": [],
      "metadata": {
        "id": "2E4hJbJSSnT2"
      },
      "execution_count": null,
      "outputs": []
    },
    {
      "cell_type": "code",
      "source": [
        "from sklearn.metrics import classification_report"
      ],
      "metadata": {
        "id": "Czsgzmzen8_f"
      },
      "execution_count": null,
      "outputs": []
    },
    {
      "cell_type": "code",
      "source": [
        "\n",
        "lr_model = LogisticRegression(random_state = 123,multi_class = 'multinomial')\n",
        "lr_model.fit(X_train,y_train)\n",
        "predy = lr_model.predict(X_test)"
      ],
      "metadata": {
        "id": "B2NpOnLroO62"
      },
      "execution_count": null,
      "outputs": []
    },
    {
      "cell_type": "code",
      "source": [
        "\n",
        "\n",
        "print(classification_report(y_test, predy, digits=4 ))"
      ],
      "metadata": {
        "colab": {
          "base_uri": "https://localhost:8080/"
        },
        "id": "yvQhsE3go2g9",
        "outputId": "dd020d33-aaca-4818-82f7-14339bdfe937"
      },
      "execution_count": null,
      "outputs": [
        {
          "output_type": "stream",
          "name": "stdout",
          "text": [
            "              precision    recall  f1-score   support\n",
            "\n",
            "           0     0.7849    0.8848    0.8319       165\n",
            "           1     0.8478    0.9398    0.8914       249\n",
            "           2     0.0000    0.0000    0.0000        49\n",
            "\n",
            "    accuracy                         0.8207       463\n",
            "   macro avg     0.5443    0.6082    0.5744       463\n",
            "weighted avg     0.7357    0.8207    0.7759       463\n",
            "\n"
          ]
        }
      ]
    },
    {
      "cell_type": "code",
      "source": [
        "from sklearn.metrics import confusion_matrix, plot_confusion_matrix\n",
        "\n",
        "lr = LogisticRegression().fit(X_train, y_train)\n",
        "y_pred = lr.predict(X_test)\n",
        "\n",
        "print(confusion_matrix(y_test, y_pred))\n",
        "print(lr.score(X_test, y_test))\n",
        "plot_confusion_matrix(lr, X_test, y_test, cmap='gray_r')"
      ],
      "metadata": {
        "id": "lZcZOlGZrXHo",
        "colab": {
          "base_uri": "https://localhost:8080/",
          "height": 443
        },
        "outputId": "a17217d5-135e-4a8b-9a84-f26b4afecfd4"
      },
      "execution_count": null,
      "outputs": [
        {
          "output_type": "stream",
          "name": "stdout",
          "text": [
            "[[146  18   1]\n",
            " [ 15 234   0]\n",
            " [ 25  24   0]]\n",
            "0.8207343412526998\n"
          ]
        },
        {
          "output_type": "stream",
          "name": "stderr",
          "text": [
            "/usr/local/lib/python3.8/dist-packages/sklearn/utils/deprecation.py:87: FutureWarning: Function plot_confusion_matrix is deprecated; Function `plot_confusion_matrix` is deprecated in 1.0 and will be removed in 1.2. Use one of the class methods: ConfusionMatrixDisplay.from_predictions or ConfusionMatrixDisplay.from_estimator.\n",
            "  warnings.warn(msg, category=FutureWarning)\n"
          ]
        },
        {
          "output_type": "execute_result",
          "data": {
            "text/plain": [
              "<sklearn.metrics._plot.confusion_matrix.ConfusionMatrixDisplay at 0x7ff6b19b82b0>"
            ]
          },
          "metadata": {},
          "execution_count": 150
        },
        {
          "output_type": "display_data",
          "data": {
            "text/plain": [
              "<Figure size 432x288 with 2 Axes>"
            ],
            "image/png": "[encoded data removed]"
          },
          "metadata": {}
        }
      ]
    }
  ]
}